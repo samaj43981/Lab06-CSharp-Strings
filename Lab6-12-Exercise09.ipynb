{
 "cells": [
  {
   "cell_type": "markdown",
   "metadata": {
    "dotnet_interactive": {
     "language": "csharp"
    },
    "polyglot_notebook": {
     "kernelName": "csharp"
    }
   },
   "source": [
    "# Lab 3 Exercise 9\n"
   ]
  },
  {
   "cell_type": "markdown",
   "metadata": {},
   "source": [
    "\n",
    "## Using StringBuilder\n",
    "จากการทดลองที่ผ่านมา เราจะเห็นว่า string เป็น object ชนิด immutable คือไม่สามารถแก้ไขได้ การแก้ไขใดๆ ใน string จะส่งผลให้ระบบสร้าง string ใหม่ขึ้นมาแทน string เก่า\n",
    "\n",
    "ในการใช้งานที่มีปริมาณการกระทำต่อ string ซ้ำ ๆ เป็นจำนวนมาก อาจจะก่อให้เกิดปัญหาด้านประสิทธิภาพการทำงานของระบบคอมพิวเตอร์ได้\n",
    "\n",
    "คลาส StringBuilder จะมีการสร้าง buffer ของ string ไว้ภายใน ทำให้ไม่ต้องสร้าง string ใหม่เมื่อมีการเปลี่ยนแปลงค่าในข้อความดังเช่นการใช้ string โดยทั่วไป\n",
    " \n"
   ]
  },
  {
   "cell_type": "markdown",
   "metadata": {},
   "source": [
    "## การปฏิบัติ"
   ]
  },
  {
   "cell_type": "markdown",
   "metadata": {},
   "source": [
    "1. สร้าง project ใหม่\n",
    "\n",
    ">   ```\n",
    ">       dotnet new console -n Lab06_Exercise09\n",
    ">   ```"
   ]
  },
  {
   "cell_type": "markdown",
   "metadata": {},
   "source": [
    "2. แก้ไข code ใน Program.cs เป็นดังนี้\n",
    "\n",
    ">   ```c#\n",
    ">       System.Text.StringBuilder sb = new System.Text.StringBuilder(\"Rat is my favorite animal.\");\n",
    ">       \n",
    ">       System.Console.WriteLine(@$\"Before change : sb = {sb.ToString()}, \n",
    ">       sb.GetHashCode = {sb.GetHashCode()}\");\n",
    ">       \n",
    ">       System.Console.WriteLine(@\"Replace first char in sb  from R to C\");\n",
    ">       sb[0] = 'C';\n",
    ">       \n",
    ">       System.Console.WriteLine(@$\"After change : sb = {sb.ToString()}, \n",
    ">       sb.GetHashCode = {sb.GetHashCode()}\");\n",
    ">   ```"
   ]
  },
  {
   "cell_type": "markdown",
   "metadata": {},
   "source": [
    "3. อธิบายโปรแกรม\n",
    "\n",
    "ให้ศึกษาโปรแกรมด้านบนและอธิบายการทำงาน\n",
    "โปรแกรมนี้สร้าง StringBuilder object ที่มีข้อความเริ่มต้น \"Rat is my favorite animal.\" จากนั้นแสดงค่าเริ่มต้นและ hash code ของ StringBuilder object ก่อนที่จะมีการเปลี่ยนแปลง จากนั้นจะแทนที่อักขระตัวแรกจาก 'R' เป็น 'C' และแสดงค่าและ hash code ของ StringBuilder object อีกครั้งหลังจากการเปลี่ยนแปลง"
   ]
  },
  {
   "cell_type": "markdown",
   "metadata": {},
   "source": [
    "4. รันโปรแกรม\n",
    "\n",
    ">   ```\n",
    ">       dotnet run --project Lab06_Exercise09\n",
    ">   ```"
   ]
  },
  {
   "cell_type": "markdown",
   "metadata": {},
   "source": [
    "5. แก้ไข code ใน Program.cs เป็นดังนี้\n",
    "\n",
    ">   ```c#\n",
    ">       var sb = new System.Text.StringBuilder();\n",
    ">       \n",
    ">       // Create a string composed of numbers 0 - 9\n",
    ">       for (int i = 0; i < 10; i++)\n",
    ">       {\n",
    ">           System.Console.Write ($\"Loop {i+1, 2} : \");\n",
    ">           sb.Append(i.ToString());\n",
    ">           System.Console.WriteLine($\"sb = {sb.ToString(),-11}, sb.GetHashCode() = {sb.GetHashCode()}\");\n",
    ">       }\n",
    ">       Console.WriteLine($\"Finally : sb = {sb}\");  \n",
    ">   ```\n"
   ]
  },
  {
   "cell_type": "markdown",
   "metadata": {},
   "source": [
    "6. อธิบายโปรแกรม\n",
    "\n",
    "ให้ศึกษาโปรแกรมด้านบนและอธิบายการทำงาน\n",
    "โปรแกรมนี้สร้าง StringBuilder object และใช้การวนลูปเพื่อเพิ่มตัวเลข 0-9 เข้าไปใน StringBuilder object ทีละตัว ในแต่ละรอบของการวนลูป จะมีการแสดงค่าของ StringBuilder object และ hash code ของมันออกมาด้วย สุดท้าย โปรแกรมจะแสดงค่าของ StringBuilder object ทั้งหมดหลังจากที่วนลูปเสร็จสิ้น"
   ]
  },
  {
   "cell_type": "markdown",
   "metadata": {},
   "source": [
    "\n",
    "7. รันโปรแกรม\n",
    "\n",
    ">   ```\n",
    ">       dotnet run --project Lab03_Exercise09\n",
    ">   ```\n",
    "\n"
   ]
  },
  {
   "cell_type": "markdown",
   "metadata": {},
   "source": [
    "8. การส่งงาน\n",
    "\n",
    "บันทึกภาพหน้าจอโปรแกรม แนบในใบงานนี้"
   ]
  },
  {
   "cell_type": "markdown",
   "metadata": {},
   "source": [
    "![a9](https://raw.githubusercontent.com/samaj43981/Lab06-CSharp-Strings/main/potho/a9.png"
   ]
  }
 ],
 "metadata": {
  "kernelspec": {
   "display_name": ".NET (C#)",
   "language": "C#",
   "name": ".net-csharp"
  },
  "polyglot_notebook": {
   "kernelInfo": {
    "defaultKernelName": "csharp",
    "items": [
     {
      "aliases": [],
      "languageName": "csharp",
      "name": "csharp"
     }
    ]
   }
  }
 },
 "nbformat": 4,
 "nbformat_minor": 2
}
