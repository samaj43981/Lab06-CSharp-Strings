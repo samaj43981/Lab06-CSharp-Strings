{
 "cells": [
  {
   "cell_type": "markdown",
   "metadata": {
    "dotnet_interactive": {
     "language": "csharp"
    },
    "polyglot_notebook": {
     "kernelName": "csharp"
    }
   },
   "source": [
    "# Lab 3 Exercise 6"
   ]
  },
  {
   "cell_type": "markdown",
   "metadata": {},
   "source": [
    "\n",
    "## String interpolation\n",
    "\n",
    "String interpolation ในภาษา C# เป็นวิธีการที่ สะดวกและอ่านง่าย ในการฝังค่าของตัวแปรลงใน string โดยตรง\n",
    "\n",
    "__วิธีการใช้งาน__\n",
    "\n",
    "1. ใส่เครื่องหมาย $ ไว้หน้า string: นี่เป็นการบอกคอมไพเลอร์ว่าเราต้องการใช้ string interpolation\n",
    "2. ใส่ตัวแปรหรือ expression ในเครื่องหมายปีกกา {}: คอมไพเลอร์จะแทนที่ expression นี้ด้วยค่าที่ผ่านการคำนวณ"
   ]
  },
  {
   "cell_type": "markdown",
   "metadata": {},
   "source": [
    "ทดลองรันโปรแกรมต่อไปนี้"
   ]
  },
  {
   "cell_type": "code",
   "execution_count": null,
   "metadata": {},
   "outputs": [],
   "source": [
    "string name = \"John\";\n",
    "int age = 30;\n",
    "\n",
    "string message = $\"My name is {name} and I am {age} years old.\";\n",
    "\n",
    "Console.WriteLine(message); "
   ]
  },
  {
   "cell_type": "markdown",
   "metadata": {},
   "source": [
    "#### ข้อดีของ String Interpolation\n",
    "- __อ่านง่าย__ โค้ดดูสะอาดตาและเข้าใจง่ายกว่าการใช้ string concatenation (+)\n",
    "- __สะดวก__  ไม่ต้องแปลงชนิดข้อมูลด้วยตนเอง คอมไพเลอร์จะจัดการให้เอง\n",
    "- __ยืดหยุ่น__ สามารถใส่ expression ใดๆ ก็ได้ใน {} เช่น การคำนวณ การเรียกใช้เมธอด ฯลฯ"
   ]
  },
  {
   "cell_type": "markdown",
   "metadata": {},
   "source": [
    "เราสามารถใส่ string  formatter รวมทั้งการคำนวณเอาไว้ใน string interpolation ได้"
   ]
  },
  {
   "cell_type": "code",
   "execution_count": null,
   "metadata": {},
   "outputs": [],
   "source": [
    "double price = 19.99;\n",
    "int quantity = 3;\n",
    "\n",
    "string order = $\"You ordered {quantity} items at {price:C} each. Total: {price * quantity:C}\";\n",
    "\n",
    "Console.WriteLine(order);"
   ]
  },
  {
   "cell_type": "markdown",
   "metadata": {},
   "source": [
    "## การปฏิบัติ"
   ]
  },
  {
   "cell_type": "markdown",
   "metadata": {},
   "source": [
    "1. สร้าง project ใหม่\n",
    "\n",
    "> ```\n",
    ">   dotnet new console -n Lab06_Exercise06\n",
    "> ```"
   ]
  },
  {
   "cell_type": "markdown",
   "metadata": {},
   "source": [
    "2. แก้ไข code ใน Program.cs เป็นดังนี้\n",
    "\n",
    "> ```c#\n",
    ">   var student = (firstname: \"fname\", Lastname:\"lname\", id: 65031234);\n",
    ">   // แก้ไข fname, lname และ id ให้เป็นข้อมูลของนักศึกษาเอง\n",
    ">   System.Console.WriteLine(\n",
    ">   @$\"First name: {student.firstname} \n",
    ">   Last name: {student.Lastname} \n",
    ">   ID:{student.id}\");\n",
    ">   \n",
    ">   int x = 3;\n",
    ">   int y = 4;\n",
    ">   System.Console.WriteLine($$\"\"\"Distance from origin to the point ({{x}},{{y}}) is {{Math.Sqrt(x*x+y*y)}}\"\"\");  \n",
    ">   \n",
    ">   System.Console.WriteLine(\"\\n\\nMethod to show { and } in string\");\n",
    ">   System.Console.WriteLine($$\"\"\"Distance from origin to the point ({x},{y}) is {Math.Sqrt(x*x+y*y)}\"\"\");  \n",
    "> \n",
    "> ```\n"
   ]
  },
  {
   "cell_type": "markdown",
   "metadata": {},
   "source": [
    "3. อธิบายโปรแกรม\n",
    "\n",
    "ให้ศึกษาโปรแกรมด้านบนและอธิบายการทำงาน"
   ]
  },
  {
   "cell_type": "markdown",
   "metadata": {},
   "source": [
    "4. รันโปรแกรม\n",
    "\n",
    "\n",
    "> ```\n",
    ">   dotnet new console -n Lab06_Exercise06\n",
    "> ```"
   ]
  },
  {
   "cell_type": "markdown",
   "metadata": {},
   "source": [
    "5. การส่งงาน\n",
    "\n",
    "บันทึกภาพหน้าจอโปรแกรม แนบในใบงานนี้"
   ]
  },
  {
   "cell_type": "markdown",
   "metadata": {},
   "source": [
    "![6](https://raw.githubusercontent.com/samaj43981/Lab06-CSharp-Strings/main/potho/6.png"
   ]
  }
 ],
 "metadata": {
  "kernelspec": {
   "display_name": ".NET (C#)",
   "language": "C#",
   "name": ".net-csharp"
  },
  "polyglot_notebook": {
   "kernelInfo": {
    "defaultKernelName": "csharp",
    "items": [
     {
      "aliases": [],
      "languageName": "csharp",
      "name": "csharp"
     }
    ]
   }
  }
 },
 "nbformat": 4,
 "nbformat_minor": 2
}
