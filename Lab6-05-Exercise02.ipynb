{
 "cells": [
  {
   "cell_type": "markdown",
   "metadata": {
    "dotnet_interactive": {
     "language": "csharp"
    },
    "polyglot_notebook": {
     "kernelName": "csharp"
    }
   },
   "source": [
    "# Lab 6 Exercise 2"
   ]
  },
  {
   "cell_type": "markdown",
   "metadata": {},
   "source": [
    "## การใช้งาน String  \n",
    "\n",
    "String คือ container หรือกล่อง ชนิดหนึ่ง ที่ใช้เก็บข้อมูลตัวอักษร ที่ร้อยเรียงกันจนเป็นข้อความที่สื่อความหมายได้  โดยสิ่งที่อยู่ในกล่อง อาจจะเป็นอักษรในภาษาใด ๆ ตัวเลข รวมถึงอักขระพิเศษที่ไม่สามารถแสดงหน้าตาออกมาได้\n",
    "\n",
    "### คุณสมบัติที่น่าสนใจของ string \n",
    "\n",
    "- __การเรียงลำดับ__\n",
    "\n",
    "ตัวอักษรใน string จะเรียงกันเป็นลำดับ เหมือนตู้โดยสารที่ที่เชื่อมต่อกันอยู่ในขบวนรถไฟ เราสามารถระบุตำแหน่งของตัวอักษรแต่ละตัวได้ด้วยตัวเลข โดยเริ่มนับจาก 0\n",
    "\n",
    "- __ไม่สามารถเปลี่ยนแปลงได้__\n",
    "\n",
    "เมื่อเราใส่ตัวอักษรลงใน string แล้ว เราไม่สามารถเปลี่ยนแปลงตัวอักษรใน string นั้นได้ ถ้าเราต้องการเปลี่ยนแปลง เราต้องสร้าง string ใหม่แล้วใส่ตัวอักษรที่ต้องการลงไป\n",
    "\n",
    "- __มีความยาว__\n",
    "\n",
    "string แต่ละ string มีความยาว ซึ่งก็คือจำนวนตัวอักษรที่อยู่ใน string นั้นๆ\n",
    "\n",
    "- __มีเครื่องมือช่วยเหลือ__\n",
    "\n",
    "ภาษา C# มีเครื่องมือต่างๆ ที่ช่วยให้เราจัดการกับ string ได้ง่ายขึ้น เช่น การต่อ string การตัด string การค้นหา string การเปลี่ยนแปลงตัวพิมพ์เล็ก-ใหญ่ เป็นต้น\n",
    "\n",
    "\n",
    "string เป็นส่วนสำคัญในการเขียนโปรแกรม  เพราะเราใช้ string ในการแสดงผลข้อมูล  รับข้อมูลจากผู้ใช้  และประมวลผลข้อความต่างๆ\n",
    "\n",
    "- ตัวอย่างการใช้งาน string ในชีวิตประจำวัน  เช่น\n",
    "  * ชื่อและนามสกุล\n",
    "  * ที่อยู่\n",
    "  * ข้อความที่เราพิมพ์ในโปรแกรมแชท\n",
    "  * เนื้อหาในเว็บไซต์\n"
   ]
  },
  {
   "cell_type": "markdown",
   "metadata": {},
   "source": [
    "## การปฏิบัติ\n",
    "\n",
    "1. สร้าง project ใหม่\n",
    "\n",
    "> ```\n",
    ">       dotnet new console -n Lab06_Exercise02\n",
    "> ```\n"
   ]
  },
  {
   "cell_type": "markdown",
   "metadata": {},
   "source": [
    "\n",
    "2. แก้ไข code ใน Program.cs เป็นดังนี้\n",
    "\n",
    ">   ```c#\n",
    ">       using System;\n",
    ">       string s1 = new string(\"Hello, World!\");\n",
    ">       string s2 = \"Hello, World!\";\n",
    ">       var s3 = \"Hello, World!\";\n",
    ">       string s4 = new(\"Hello, World!\");\n",
    ">       Console.WriteLine(s1);\n",
    ">       Console.WriteLine(s2);\n",
    ">       Console.WriteLine(s3);\n",
    ">       Console.WriteLine(s4);\n",
    ">   ```\n"
   ]
  },
  {
   "cell_type": "markdown",
   "metadata": {},
   "source": [
    "\n",
    "3. อธิบายโปรแกรม\n",
    "\n",
    "ให้ศึกษาโปรแกรมด้านลน และอธิบายการทำงาน\n"
   ]
  },
  {
   "cell_type": "markdown",
   "metadata": {},
   "source": [
    "\n",
    "4. ทดสอบโปรแกรม cutpture หน้าจอ และอธิบายผลที่ได้\n",
    "\n",
    "    ```\n",
    "    dotnet run --project Lab06_Exercise02\n",
    "    ```\n"
   ]
  },
  {
   "cell_type": "markdown",
   "metadata": {},
   "source": [
    "\n",
    "## ศึกษาเพิ่มเติม\n",
    "\n",
    "<https://learn.microsoft.com/en-us/dotnet/csharp/programming-guide/strings/>\n"
   ]
  },
  {
   "cell_type": "markdown",
   "metadata": {},
   "source": [
    "5. การส่งงาน\n",
    "\n",
    "บันทึกภาพหน้าจอโปรแกรม แนบในใบงานนี้"
   ]
  },
  {
   "cell_type": "markdown",
   "metadata": {},
   "source": [
    "![2](https://raw.githubusercontent.com/samaj43981/Lab06-CSharp-Strings/main/potho/2.png"
   ]
  }
 ],
 "metadata": {
  "kernelspec": {
   "display_name": ".NET (C#)",
   "language": "C#",
   "name": ".net-csharp"
  },
  "polyglot_notebook": {
   "kernelInfo": {
    "defaultKernelName": "csharp",
    "items": [
     {
      "aliases": [],
      "languageName": "csharp",
      "name": "csharp"
     }
    ]
   }
  }
 },
 "nbformat": 4,
 "nbformat_minor": 2
}
